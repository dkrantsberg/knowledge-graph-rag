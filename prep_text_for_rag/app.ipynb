{
  "cells": [
    {
      "cell_type": "code",
      "execution_count": 2,
      "metadata": {},
      "outputs": [],
      "source": [
        "# Setup and imports\n",
        "from dotenv import load_dotenv\n",
        "import os\n",
        "from langchain_neo4j import Neo4jGraph\n",
        "from langchain_openai import ChatOpenAI\n",
        "\n",
        "load_dotenv()\n",
        "\n",
        "# Expect the following env vars to be set: AURA_INSTANCENAME, NEO4J_URI, NEO4J_USERNAME, NEO4J_PASSWORD, OPENAI_API_KEY, OPENAI_ENDPOINT\n",
        "AURA_INSTANCENAME = os.environ.get(\"AURA_INSTANCENAME\")\n",
        "NEO4J_URI = os.environ[\"NEO4J_URI\"]\n",
        "NEO4J_USERNAME = os.environ[\"NEO4J_USERNAME\"]\n",
        "NEO4J_PASSWORD = os.environ[\"NEO4J_PASSWORD\"]\n",
        "AUTH = (NEO4J_USERNAME, NEO4J_PASSWORD)\n",
        "\n",
        "OPENAI_API_KEY = os.environ[\"OPENAI_API_KEY\"]\n",
        "OPENAI_ENDPOINT = os.environ.get(\"OPENAI_ENDPOINT\")\n",
        "\n",
        "chat = ChatOpenAI(api_key=OPENAI_API_KEY)\n",
        "\n",
        "kg = Neo4jGraph(\n",
        "    url=NEO4J_URI,\n",
        "    username=NEO4J_USERNAME,\n",
        "    password=NEO4J_PASSWORD,\n",
        ") #database=NEO4J_DATABASE,\n"
      ]
    },
    {
      "cell_type": "code",
      "execution_count": null,
      "metadata": {},
      "outputs": [],
      "source": [
        "# Create vector index (run once)\n",
        "kg.query(\n",
        "    \"\"\"\n",
        "    CREATE VECTOR INDEX health_providers_embeddings IF NOT EXISTS\n",
        "    FOR (hp:HealthcareProvider) ON (hp.comprehensiveEmbedding)\n",
        "    OPTIONS {\n",
        "      indexConfig: {\n",
        "        `vector.dimensions`: 1536,\n",
        "        `vector.similarity_function`: 'cosine'\n",
        "      }\n",
        "    }\n",
        "    \"\"\"\n",
        ")\n",
        "\n",
        "# Verify index\n",
        "res = kg.query(\n",
        "    \"\"\"\n",
        "  SHOW VECTOR INDEXES\n",
        "  \"\"\"\n",
        ")\n",
        "res\n"
      ]
    },
    {
      "cell_type": "code",
      "execution_count": null,
      "metadata": {},
      "outputs": [],
      "source": [
        "# Populate embeddings (run once)\n",
        "kg.query(\n",
        "    \"\"\"\n",
        "    MATCH (hp:HealthcareProvider)-[:TREATS]->(p:Patient)\n",
        "    WHERE hp.bio IS NOT NULL\n",
        "    WITH hp, genai.vector.encode(\n",
        "        hp.bio,\n",
        "        \"OpenAI\",\n",
        "        {\n",
        "          token: $openAiApiKey,\n",
        "          endpoint: $openAiEndpoint\n",
        "        }) AS vector\n",
        "    WITH hp, vector\n",
        "    WHERE vector IS NOT NULL\n",
        "    CALL db.create.setNodeVectorProperty(hp, \"comprehensiveEmbedding\", vector)\n",
        "    \"\"\",\n",
        "    params={\n",
        "        \"openAiApiKey\": OPENAI_API_KEY,\n",
        "        \"openAiEndpoint\": OPENAI_ENDPOINT,\n",
        "    },\n",
        ")\n"
      ]
    },
    {
      "cell_type": "code",
      "execution_count": null,
      "metadata": {},
      "outputs": [],
      "source": [
        "# Inspect a few nodes to verify embedding property is present\n",
        "result = kg.query(\n",
        "    \"\"\"\n",
        "    MATCH (hp:HealthcareProvider)\n",
        "    WHERE hp.bio IS NOT NULL\n",
        "    RETURN hp.bio AS bio, hp.name AS name, hp.comprehensiveEmbedding AS embedding\n",
        "    LIMIT 5\n",
        "    \"\"\"\n",
        ")\n",
        "result\n"
      ]
    },
    {
      "cell_type": "code",
      "execution_count": null,
      "metadata": {},
      "outputs": [
        {
          "name": "stdout",
          "output_type": "stream",
          "text": [
            "Name: Dr. Jessica Lee\n",
            "Bio: Dr. Jessica Lee is a dermatologist focused on skin cancer treatment and prevention.\n",
            "Score: 0.896636962890625\n",
            "---\n",
            "Name: Dr. Sarah Johnson\n",
            "Bio: Dr. Sarah Johnson is a pediatrician known for her compassionate care.\n",
            "Score: 0.8798370361328125\n",
            "---\n",
            "Name: Dr. Emily Davis\n",
            "Bio: Dr. Emily Davis specializes in neurology and has published numerous research papers.\n",
            "Score: 0.872283935546875\n",
            "---\n"
          ]
        }
      ],
      "source": [
        "# Vector query demo\n",
        "question = \"give me a list of healthcare providers in the area of cardiology\"\n",
        "\n",
        "result = kg.query(\n",
        "    \"\"\"\n",
        "    WITH genai.vector.encode(\n",
        "        $question,\n",
        "        \"OpenAI\",\n",
        "        {\n",
        "          token: $openAiApiKey,\n",
        "          endpoint: $openAiEndpoint\n",
        "        }) AS question_embedding\n",
        "    CALL db.index.vector.queryNodes(\n",
        "        'health_providers_embeddings',\n",
        "        $top_k,\n",
        "        question_embedding\n",
        "        ) YIELD node AS healthcare_provider, score\n",
        "    RETURN healthcare_provider.name AS name, healthcare_provider.bio AS bio, score AS score\n",
        "    \"\"\",\n",
        "    params={\n",
        "        \"openAiApiKey\": OPENAI_API_KEY,\n",
        "        \"openAiEndpoint\": OPENAI_ENDPOINT,\n",
        "        \"question\": question,\n",
        "        \"top_k\": 3,\n",
        "    },\n",
        ")\n",
        "\n",
        "# Pretty print\n",
        "for record in result:\n",
        "    print(f\"Name: {record['name']}\")\n",
        "    print(f\"Bio: {record['bio']}\")\n",
        "    print(f\"Score: {record['score']}\")\n",
        "    print(\"---\")\n"
      ]
    }
  ],
  "metadata": {
    "kernelspec": {
      "display_name": ".venv",
      "language": "python",
      "name": "python3"
    },
    "language_info": {
      "codemirror_mode": {
        "name": "ipython",
        "version": 3
      },
      "file_extension": ".py",
      "mimetype": "text/x-python",
      "name": "python",
      "nbconvert_exporter": "python",
      "pygments_lexer": "ipython3",
      "version": "3.13.7"
    }
  },
  "nbformat": 4,
  "nbformat_minor": 2
}
